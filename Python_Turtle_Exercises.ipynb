import turtle

def draw_star(size):

    turtle.speed(3)
    turtle.penup()
    turtle.goto(-size / 2, size / 3)
    turtle.pendown()

    for _ in range(5):
        turtle.forward(size)
        turtle.right(144)

    turtle.done()


draw_star(200)

import turtle

def draw_spiral_square(length, step, angle, iterations):

    turtle.speed(0)
    for i in range(iterations):
        turtle.forward(length + i * step)
        turtle.right(angle)

    turtle.done()


draw_spiral_square(length=10, step=5, angle=90, iterations=50)

#excercise
import turtle

def draw_nested_squares(t, num_squares, size_increment):
    size = 20
    for _ in range(num_squares):
        for _ in range(4):
            t.forward(size)
            t.right(90)
        t.penup()
        t.backward(10)
        t.right(90)
        t.forward(-10)
        t.left(90)
        t.pendown()
        size += size_increment

screen = turtle.Screen()
screen.bgcolor("lightgreen")

tess = turtle.Turtle()
tess.color("hotpink")
tess.speed(3)

draw_nested_squares(tess, 5, 20)

screen.mainloop()

import turtle
import random

def draw_colorful_spiral(steps, angle, length_increment):

    turtle.speed(0)
    turtle.bgcolor("black")
    colors = ["red", "orange", "yellow", "green", "blue", "purple", "pink", "cyan"]

    length = 5

    for i in range(steps):
        turtle.pencolor(random.choice(colors))
        turtle.forward(length)
        turtle.right(angle)
        length += length_increment

    turtle.done()

draw_colorful_spiral(steps=100, angle=59, length_increment=3)

import turtle
import random

def draw_random_pattern(steps):

    turtle.speed(0)
    turtle.bgcolor("black")
    colors = ["red", "orange", "yellow", "green", "blue", "purple", "pink", "cyan", "white"]

    for _ in range(steps):
        turtle.pencolor(random.choice(colors))
        turtle.pensize(random.randint(1, 5))
        turtle.forward(random.randint(10, 50))
        turtle.right(random.randint(0, 360))

    turtle.done()

draw_random_pattern(steps=200)
